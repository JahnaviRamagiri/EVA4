{
  "nbformat": 4,
  "nbformat_minor": 0,
  "metadata": {
    "colab": {
      "name": "EVA4_S5_Assignment.ipynb",
      "provenance": [],
      "collapsed_sections": [],
      "authorship_tag": "ABX9TyPcKhaveCdr+yMUrqyHEOMg",
      "include_colab_link": true
    },
    "kernelspec": {
      "name": "python3",
      "display_name": "Python 3"
    },
    "accelerator": "GPU"
  },
  "cells": [
    {
      "cell_type": "markdown",
      "metadata": {
        "id": "view-in-github",
        "colab_type": "text"
      },
      "source": [
        "<a href=\"https://colab.research.google.com/github/abksyed/EVA4/blob/master/S5/EVA4_S5_Assignment_iter02.ipynb\" target=\"_parent\"><img src=\"https://colab.research.google.com/assets/colab-badge.svg\" alt=\"Open In Colab\"/></a>"
      ]
    },
    {
      "cell_type": "markdown",
      "metadata": {
        "id": "T8lZzUIiRWyN",
        "colab_type": "text"
      },
      "source": [
        "#Import Statements"
      ]
    },
    {
      "cell_type": "code",
      "metadata": {
        "id": "uav9WpxSOSmp",
        "colab_type": "code",
        "colab": {}
      },
      "source": [
        "from __future__ import print_function\n",
        "import torch\n",
        "import torch.nn as nn\n",
        "import torch.nn.functional as F\n",
        "import torch.optim as optim\n",
        "from torchvision import datasets, transforms"
      ],
      "execution_count": 0,
      "outputs": []
    },
    {
      "cell_type": "markdown",
      "metadata": {
        "id": "I98VURjCRaiQ",
        "colab_type": "text"
      },
      "source": [
        "# Targets"
      ]
    },
    {
      "cell_type": "markdown",
      "metadata": {
        "id": "krJ30b6-P9DC",
        "colab_type": "text"
      },
      "source": [
        "**Overall Target to Acheive**\n",
        " \n",
        "\n",
        "1.   99.4% (this must be consistently shown in your last few epochs, and not a one-time achievement)\n",
        "2.   Less than or equal to 15 Epochs\n",
        "3.   Less than 10000 Parameters\n",
        "\n",
        "*Target for this Iteration:*\n",
        "\n",
        "\n",
        "1.   Build the Basic Model\n",
        "2.   Import Data and Transform\n",
        "3.   Set up Training and Testing methods"
      ]
    },
    {
      "cell_type": "markdown",
      "metadata": {
        "id": "6aO2zedARdx6",
        "colab_type": "text"
      },
      "source": [
        "#Raw Data Statistics"
      ]
    },
    {
      "cell_type": "code",
      "metadata": {
        "id": "ssmdtShCPSJ3",
        "colab_type": "code",
        "colab": {
          "base_uri": "https://localhost:8080/",
          "height": 153
        },
        "outputId": "80f7069b-bcd1-4a59-8943-8b7eb76b8224"
      },
      "source": [
        "#Getting to know Data\n",
        "data = datasets.MNIST('./data', train= True, transform= transforms.Compose([transforms.ToTensor(),]), download= True)\n",
        "\n",
        "exp = data.data\n",
        "exp = data.transform(exp.numpy())\n",
        "\n",
        "print('Train Statistics')\n",
        "print(' - Numpy Shape:', data.data.cpu().numpy().shape)\n",
        "print(' - Tensor Shape:', data.data.size())\n",
        "print(' - min:', torch.min(exp))\n",
        "print(' - max:', torch.max(exp))\n",
        "print(' - mean:', torch.mean(exp))\n",
        "print(' - std:', torch.std(exp))\n",
        "print(' - var:', torch.var(exp))"
      ],
      "execution_count": 2,
      "outputs": [
        {
          "output_type": "stream",
          "text": [
            "Train Statistics\n",
            " - Numpy Shape: (60000, 28, 28)\n",
            " - Tensor Shape: torch.Size([60000, 28, 28])\n",
            " - min: tensor(0.)\n",
            " - max: tensor(1.)\n",
            " - mean: tensor(0.1305)\n",
            " - std: tensor(0.3081)\n",
            " - var: tensor(0.0949)\n"
          ],
          "name": "stdout"
        }
      ]
    },
    {
      "cell_type": "markdown",
      "metadata": {
        "id": "9vYMCFayZNOe",
        "colab_type": "text"
      },
      "source": [
        "#Transforming Raw Data to Normalized Data"
      ]
    },
    {
      "cell_type": "code",
      "metadata": {
        "id": "F_I0mdJXViHB",
        "colab_type": "code",
        "colab": {}
      },
      "source": [
        "#Transforming Data (Normalizing to mean=1, std= 0)\n",
        "train_transform = transforms.Compose([\n",
        "                                      transforms.ToTensor(),\n",
        "                                      transforms.Normalize((0.1311,), (0.3081,))\n",
        "]\n",
        ")\n",
        "\n",
        "test_transform = transforms.Compose([\n",
        "                                     transforms.ToTensor(),\n",
        "                                     transforms.Normalize((0.1311,),(0.3081,))\n",
        "])"
      ],
      "execution_count": 0,
      "outputs": []
    },
    {
      "cell_type": "markdown",
      "metadata": {
        "id": "xbRjcrBZZSOu",
        "colab_type": "text"
      },
      "source": [
        "#Creating Train/Test Split"
      ]
    },
    {
      "cell_type": "code",
      "metadata": {
        "id": "0iY_810tYFOH",
        "colab_type": "code",
        "colab": {}
      },
      "source": [
        "#Getting Train and Test Data\n",
        "train = datasets.MNIST('./data', train= True, transform= train_transform)\n",
        "test = datasets.MNIST('./data', train= False, transform= test_transform)"
      ],
      "execution_count": 0,
      "outputs": []
    },
    {
      "cell_type": "markdown",
      "metadata": {
        "id": "4zj8qSLYZWUz",
        "colab_type": "text"
      },
      "source": [
        "#Dataloader Arguments & Test/Train Dataloaders"
      ]
    },
    {
      "cell_type": "code",
      "metadata": {
        "id": "BOXq3mHkZbwR",
        "colab_type": "code",
        "colab": {
          "base_uri": "https://localhost:8080/",
          "height": 34
        },
        "outputId": "50a849a0-9a7a-4146-cd13-238d24abb2cb"
      },
      "source": [
        "seed = 1\n",
        "\n",
        "#CUDA Availability\n",
        "cuda = torch.cuda.is_available()\n",
        "print(\"CUDA Available?\", cuda)\n",
        "\n",
        "#For Reproducibility\n",
        "torch.manual_seed(seed)\n",
        "\n",
        "if cuda:\n",
        "    torch.cuda.manual_seed(seed)\n",
        "\n",
        "dataloader_args = dict(shuffle=True, batch_size=64, num_workers=4, pin_memory= True) if cuda else dict(shuffle= True, batch_size=64)\n",
        "\n",
        "#Train Dataloader\n",
        "train_loader = torch.utils.data.DataLoader(train, **dataloader_args)\n",
        "\n",
        "#Test Dataloader\n",
        "test_loader = torch.utils.data.DataLoader(test, **dataloader_args)"
      ],
      "execution_count": 5,
      "outputs": [
        {
          "output_type": "stream",
          "text": [
            "CUDA Available? True\n"
          ],
          "name": "stdout"
        }
      ]
    },
    {
      "cell_type": "code",
      "metadata": {
        "id": "s0jiKEl0YVTC",
        "colab_type": "code",
        "colab": {
          "base_uri": "https://localhost:8080/",
          "height": 486
        },
        "outputId": "341f9da2-dc9f-481f-c324-afadd7080a27"
      },
      "source": [
        "#Testing Normalized Data Statistics\n",
        "\n",
        "train_numpy = train.train_data\n",
        "train_numpy = train.transform(train_numpy.numpy())\n",
        "\n",
        "print('[Train]')\n",
        "print(' - Numpy Shape:', train_numpy.shape)\n",
        "print(' - Tensor Shape:', train.data.size())\n",
        "print(' - min:', torch.min(train_numpy))\n",
        "print(' - max:', torch.max(train_numpy))\n",
        "print(' - mean:', torch.mean(train_numpy))\n",
        "print(' - std:', torch.std(train_numpy))\n",
        "print(' - var:', torch.var(train_numpy))\n",
        "\n",
        "dataiter = iter(train_loader)\n",
        "images, labels = dataiter.next()\n",
        "\n",
        "print(images.shape)\n",
        "print(labels.shape)\n",
        "\n",
        "# Let's visualize some of the images\n",
        "%matplotlib inline\n",
        "import matplotlib.pyplot as plt\n",
        "\n",
        "plt.imshow(images[0].numpy().squeeze(), cmap='gray_r')"
      ],
      "execution_count": 6,
      "outputs": [
        {
          "output_type": "stream",
          "text": [
            "/usr/local/lib/python3.6/dist-packages/torchvision/datasets/mnist.py:55: UserWarning: train_data has been renamed data\n",
            "  warnings.warn(\"train_data has been renamed data\")\n"
          ],
          "name": "stderr"
        },
        {
          "output_type": "stream",
          "text": [
            "[Train]\n",
            " - Numpy Shape: torch.Size([28, 60000, 28])\n",
            " - Tensor Shape: torch.Size([60000, 28, 28])\n",
            " - min: tensor(-0.4255)\n",
            " - max: tensor(2.8202)\n",
            " - mean: tensor(0.0004)\n",
            " - std: tensor(1.0000)\n",
            " - var: tensor(1.0001)\n",
            "torch.Size([64, 1, 28, 28])\n",
            "torch.Size([64])\n"
          ],
          "name": "stdout"
        },
        {
          "output_type": "execute_result",
          "data": {
            "text/plain": [
              "<matplotlib.image.AxesImage at 0x7effa78b8a20>"
            ]
          },
          "metadata": {
            "tags": []
          },
          "execution_count": 6
        },
        {
          "output_type": "display_data",
          "data": {
            "image/png": "[encoded data removed]",
            "text/plain": [
              "<Figure size 432x288 with 1 Axes>"
            ]
          },
          "metadata": {
            "tags": [],
            "needs_background": "light"
          }
        }
      ]
    },
    {
      "cell_type": "markdown",
      "metadata": {
        "id": "FgdU3GJ5b9Nl",
        "colab_type": "text"
      },
      "source": [
        "#Viewing Sample Images in Dataset"
      ]
    },
    {
      "cell_type": "code",
      "metadata": {
        "id": "fsj4EyKhY-4Y",
        "colab_type": "code",
        "colab": {
          "base_uri": "https://localhost:8080/",
          "height": 248
        },
        "outputId": "bcd3bd98-5f16-4b73-9b24-aa0320dced58"
      },
      "source": [
        "figure = plt.figure()\n",
        "num_of_images = 64\n",
        "for index in range(0, num_of_images):\n",
        "    plt.subplot(8, 8, index+1)\n",
        "    plt.axis('off')\n",
        "    plt.imshow(images[index].numpy().squeeze(), cmap='gray_r')"
      ],
      "execution_count": 7,
      "outputs": [
        {
          "output_type": "display_data",
          "data": {
            "image/png": "[encoded data removed]",
            "text/plain": [
              "<Figure size 432x288 with 64 Axes>"
            ]
          },
          "metadata": {
            "tags": [],
            "needs_background": "light"
          }
        }
      ]
    },
    {
      "cell_type": "markdown",
      "metadata": {
        "id": "d6Z2eOs0c2_L",
        "colab_type": "text"
      },
      "source": [
        "#**THE MODEL**"
      ]
    },
    {
      "cell_type": "code",
      "metadata": {
        "id": "LV7npc4zcFqB",
        "colab_type": "code",
        "colab": {}
      },
      "source": [
        "class Net(nn.Module):\n",
        "\n",
        "  def __init__(self):\n",
        "\n",
        "    super(Net, self).__init__()\n",
        "\n",
        "    #Input Block - Input= 28\n",
        "    self.block1 = nn.Sequential(\n",
        "        nn.Conv2d(in_channels= 1, out_channels= 8, kernel_size= 3, padding= 1, bias= False),\n",
        "        nn.ReLU()\n",
        "    ) #Output= 28 / ReceptiveField= 3\n",
        "\n",
        "    #Convolution Block - Input= 28\n",
        "    self.block2 = nn.Sequential(\n",
        "        nn.Conv2d(in_channels= 8, out_channels= 8, kernel_size= 3, padding= 1, bias= False),\n",
        "        nn.ReLU()\n",
        "    ) #Output= 28 / ReceptiveField= 5\n",
        "\n",
        "    #Max Pooling and 1x1 Convolution\n",
        "    self.mp1 = nn.Sequential(\n",
        "        nn.MaxPool2d(2),\n",
        "        #nn.Conv2d(in_channels= 16, out_channels= 8, kernel_size= 1, bias= False)\n",
        "    )#Output= 14 / ReceptiveField= 6\n",
        "\n",
        "    #Convolution Block - Input= 14\n",
        "    self.block3 = nn.Sequential(\n",
        "        nn.Conv2d(in_channels= 8, out_channels= 16, kernel_size= 3, padding= 1, bias= False),\n",
        "        nn.ReLU(), \n",
        "        #Output= 14 / ReceptiveField= 10\n",
        "        nn.Conv2d(in_channels= 16, out_channels= 16, kernel_size= 3, padding= 1, bias= False),\n",
        "        nn.ReLU()\n",
        "    ) #Output= 14 / ReceptiveField= 14\n",
        "\n",
        "    #Max Pooling and 1x1 Convolution\n",
        "    self.mp2 = nn.Sequential(\n",
        "        nn.MaxPool2d(2),\n",
        "        nn.Conv2d(in_channels= 16, out_channels= 8, kernel_size= 1, bias= False)\n",
        "    )#Output= 7 / ReceptiveField= 16    \n",
        "\n",
        "    #Convolution Block - Input= 7\n",
        "    self.block4 = nn.Sequential(\n",
        "        nn.Conv2d(in_channels= 8, out_channels= 20, kernel_size= 3, padding= 0, bias= False),\n",
        "        nn.ReLU(), \n",
        "        #Output= 5 / ReceptiveField= 24\n",
        "        nn.Conv2d(in_channels= 20, out_channels= 10, kernel_size= 3, padding= 0, bias= False),\n",
        "    ) #Output= 3 / ReceptiveField= 32\n",
        "\n",
        "    #GAP - Input 3\n",
        "    self.gap = nn.AvgPool2d(3)\n",
        "    #Output= 1 / ReceptiveField= 32\n",
        "\n",
        "  def forward(self,x):\n",
        "\n",
        "     x = self.block1(x)\n",
        "     x = self.block2(x)\n",
        "     x = self.mp1(x)\n",
        "     x = self.block3(x)\n",
        "     x = self.mp2(x)\n",
        "     x = self.block4(x)\n",
        "     x = self.gap(x)\n",
        "     x = x.view(-1,10)\n",
        "\n",
        "     return F.log_softmax(x, dim=-1)"
      ],
      "execution_count": 0,
      "outputs": []
    },
    {
      "cell_type": "markdown",
      "metadata": {
        "id": "8hG0p9wAT4fa",
        "colab_type": "text"
      },
      "source": [
        "#Inspecting Model Parameters"
      ]
    },
    {
      "cell_type": "code",
      "metadata": {
        "id": "JachGIPfeIFb",
        "colab_type": "code",
        "colab": {
          "base_uri": "https://localhost:8080/",
          "height": 527
        },
        "outputId": "126185c7-f954-4cc2-86cd-6bcc2c8b5143"
      },
      "source": [
        "!pip install torchsummary\n",
        "from torchsummary import summary\n",
        "\n",
        "use_cuda = torch.cuda.is_available()\n",
        "device = torch.device(\"cuda\" if use_cuda else \"cpu\")\n",
        "print(device)\n",
        "model = Net().to(device)\n",
        "summary(model, input_size=(1, 28, 28))"
      ],
      "execution_count": 9,
      "outputs": [
        {
          "output_type": "stream",
          "text": [
            "Requirement already satisfied: torchsummary in /usr/local/lib/python3.6/dist-packages (1.5.1)\n",
            "cuda\n",
            "----------------------------------------------------------------\n",
            "        Layer (type)               Output Shape         Param #\n",
            "================================================================\n",
            "            Conv2d-1            [-1, 8, 28, 28]              72\n",
            "              ReLU-2            [-1, 8, 28, 28]               0\n",
            "            Conv2d-3            [-1, 8, 28, 28]             576\n",
            "              ReLU-4            [-1, 8, 28, 28]               0\n",
            "         MaxPool2d-5            [-1, 8, 14, 14]               0\n",
            "            Conv2d-6           [-1, 16, 14, 14]           1,152\n",
            "              ReLU-7           [-1, 16, 14, 14]               0\n",
            "            Conv2d-8           [-1, 16, 14, 14]           2,304\n",
            "              ReLU-9           [-1, 16, 14, 14]               0\n",
            "        MaxPool2d-10             [-1, 16, 7, 7]               0\n",
            "           Conv2d-11              [-1, 8, 7, 7]             128\n",
            "           Conv2d-12             [-1, 20, 5, 5]           1,440\n",
            "             ReLU-13             [-1, 20, 5, 5]               0\n",
            "           Conv2d-14             [-1, 10, 3, 3]           1,800\n",
            "        AvgPool2d-15             [-1, 10, 1, 1]               0\n",
            "================================================================\n",
            "Total params: 7,472\n",
            "Trainable params: 7,472\n",
            "Non-trainable params: 0\n",
            "----------------------------------------------------------------\n",
            "Input size (MB): 0.00\n",
            "Forward/backward pass size (MB): 0.32\n",
            "Params size (MB): 0.03\n",
            "Estimated Total Size (MB): 0.35\n",
            "----------------------------------------------------------------\n"
          ],
          "name": "stdout"
        }
      ]
    },
    {
      "cell_type": "markdown",
      "metadata": {
        "id": "DSzU_wXyf89W",
        "colab_type": "text"
      },
      "source": [
        "#Training and Testing"
      ]
    },
    {
      "cell_type": "code",
      "metadata": {
        "id": "xsi7UsciUaQe",
        "colab_type": "code",
        "colab": {}
      },
      "source": [
        "from tqdm import tqdm\n",
        "\n",
        "train_loss = []\n",
        "test_loss = []\n",
        "\n",
        "train_acc = []\n",
        "test_acc = []\n",
        "\n",
        "def train(model, device, train_loader, optimizer, epoch):\n",
        "  model.train()\n",
        "  pbar = tqdm(train_loader)\n",
        "  correct = 0\n",
        "  processed = 0\n",
        "  for batch_idx, (data, target) in enumerate(pbar):\n",
        "    data, target = data.to(device), target.to(device)\n",
        "\n",
        "    optimizer.zero_grad()\n",
        "\n",
        "    y_pred = model(data)\n",
        "\n",
        "    loss = F.nll_loss(y_pred, target)\n",
        "    train_loss.append(loss)\n",
        "\n",
        "    loss.backward()\n",
        "    optimizer.step()\n",
        "\n",
        "    pred = y_pred.argmax(dim=1, keepdim= True)\n",
        "    correct+= pred.eq(target.view_as(pred)).sum().item()\n",
        "    processed += len(data)\n",
        "\n",
        "    pbar.set_description(desc= f'Loss={loss.item()} Batch_id={batch_idx} Accuracy={100*correct/processed:0.2f}')\n",
        "    train_acc.append(100 * correct/processed)"
      ],
      "execution_count": 0,
      "outputs": []
    },
    {
      "cell_type": "code",
      "metadata": {
        "id": "d0nDMuzd2ZzP",
        "colab_type": "code",
        "colab": {}
      },
      "source": [
        "def test(model, device, test_loader):\n",
        "  model.eval()\n",
        "  correct= 0\n",
        "  tloss= 0\n",
        "\n",
        "  with torch.no_grad():\n",
        "    for data, target in test_loader:\n",
        "      data, target = data.to(device), target.to(device)\n",
        "\n",
        "      output = model(data)\n",
        "\n",
        "      tloss+= F.nll_loss(output, target, reduction= 'sum').item()\n",
        "      pred= output.argmax(dim= 1, keepdim= True)\n",
        "      correct+= pred.eq(target.view_as(pred)).sum().item()\n",
        "\n",
        "  tloss /= len(test_loader.dataset)\n",
        "  test_loss.append(tloss)\n",
        "  print(100 * correct/len(test_loader.dataset))\n",
        "  print('\\nTest set: Average loss: {:.4f}, Accuracy: {}/{} ({:.2f}%)\\n'.format(\n",
        "        tloss, correct, len(test_loader.dataset),\n",
        "        100 * correct/len(test_loader.dataset)))\n",
        "  \n",
        "  test_acc.append(100 * correct/len(test_loader.dataset))"
      ],
      "execution_count": 0,
      "outputs": []
    },
    {
      "cell_type": "markdown",
      "metadata": {
        "id": "vgydLZAl4XnJ",
        "colab_type": "text"
      },
      "source": [
        "#Running the Model"
      ]
    },
    {
      "cell_type": "code",
      "metadata": {
        "id": "NQy5kh2d4Vg6",
        "colab_type": "code",
        "colab": {
          "base_uri": "https://localhost:8080/",
          "height": 765
        },
        "outputId": "049c089e-d445-450b-c594-f74869015583"
      },
      "source": [
        "model = Net().to(device)\n",
        "optimizer = optim.SGD(model.parameters(), lr= 0.01, momentum= 0.9)\n",
        "epochs = 15\n",
        "\n",
        "for epoch in range(epochs):\n",
        "  print('EPOCH: ', epoch+1)\n",
        "  train(model, device, train_loader, optimizer, epoch)\n",
        "  test(model, device, test_loader)"
      ],
      "execution_count": 0,
      "outputs": [
        {
          "output_type": "stream",
          "text": [
            "\r  0%|          | 0/938 [00:00<?, ?it/s]"
          ],
          "name": "stderr"
        },
        {
          "output_type": "stream",
          "text": [
            "EPOCH:  1\n"
          ],
          "name": "stdout"
        },
        {
          "output_type": "stream",
          "text": [
            "Loss=0.15958081185817719 Batch_id=937 Accuracy=43.64: 100%|██████████| 938/938 [00:11<00:00, 81.97it/s]\n",
            "  0%|          | 0/938 [00:00<?, ?it/s]"
          ],
          "name": "stderr"
        },
        {
          "output_type": "stream",
          "text": [
            "94.08\n",
            "\n",
            "Test set: Average loss: 0.1868, Accuracy: 9408/10000 (94.08%)\n",
            "\n",
            "EPOCH:  2\n"
          ],
          "name": "stdout"
        },
        {
          "output_type": "stream",
          "text": [
            "Loss=0.005657672882080078 Batch_id=937 Accuracy=96.19: 100%|██████████| 938/938 [00:11<00:00, 83.35it/s]\n",
            "  0%|          | 0/938 [00:00<?, ?it/s]"
          ],
          "name": "stderr"
        },
        {
          "output_type": "stream",
          "text": [
            "97.33\n",
            "\n",
            "Test set: Average loss: 0.0824, Accuracy: 9733/10000 (97.33%)\n",
            "\n",
            "EPOCH:  3\n"
          ],
          "name": "stdout"
        },
        {
          "output_type": "stream",
          "text": [
            "Loss=0.07659898698329926 Batch_id=937 Accuracy=97.63: 100%|██████████| 938/938 [00:11<00:00, 84.56it/s]\n",
            "  0%|          | 0/938 [00:00<?, ?it/s]"
          ],
          "name": "stderr"
        },
        {
          "output_type": "stream",
          "text": [
            "98.16\n",
            "\n",
            "Test set: Average loss: 0.0585, Accuracy: 9816/10000 (98.16%)\n",
            "\n",
            "EPOCH:  4\n"
          ],
          "name": "stdout"
        },
        {
          "output_type": "stream",
          "text": [
            "Loss=0.03358817100524902 Batch_id=937 Accuracy=98.17: 100%|██████████| 938/938 [00:11<00:00, 81.60it/s]\n",
            "  0%|          | 0/938 [00:00<?, ?it/s]"
          ],
          "name": "stderr"
        },
        {
          "output_type": "stream",
          "text": [
            "98.48\n",
            "\n",
            "Test set: Average loss: 0.0442, Accuracy: 9848/10000 (98.48%)\n",
            "\n",
            "EPOCH:  5\n"
          ],
          "name": "stdout"
        },
        {
          "output_type": "stream",
          "text": [
            "Loss=0.0014408528804779053 Batch_id=937 Accuracy=98.41: 100%|██████████| 938/938 [00:11<00:00, 82.89it/s]\n",
            "  0%|          | 0/938 [00:00<?, ?it/s]"
          ],
          "name": "stderr"
        },
        {
          "output_type": "stream",
          "text": [
            "98.58\n",
            "\n",
            "Test set: Average loss: 0.0431, Accuracy: 9858/10000 (98.58%)\n",
            "\n",
            "EPOCH:  6\n"
          ],
          "name": "stdout"
        },
        {
          "output_type": "stream",
          "text": [
            "Loss=0.019868209958076477 Batch_id=937 Accuracy=98.58: 100%|██████████| 938/938 [00:11<00:00, 82.71it/s]\n",
            "  0%|          | 0/938 [00:00<?, ?it/s]"
          ],
          "name": "stderr"
        },
        {
          "output_type": "stream",
          "text": [
            "98.62\n",
            "\n",
            "Test set: Average loss: 0.0436, Accuracy: 9862/10000 (98.62%)\n",
            "\n",
            "EPOCH:  7\n"
          ],
          "name": "stdout"
        },
        {
          "output_type": "stream",
          "text": [
            "Loss=0.25858116149902344 Batch_id=937 Accuracy=98.78: 100%|██████████| 938/938 [00:11<00:00, 82.03it/s]\n",
            "  0%|          | 0/938 [00:00<?, ?it/s]"
          ],
          "name": "stderr"
        },
        {
          "output_type": "stream",
          "text": [
            "98.83\n",
            "\n",
            "Test set: Average loss: 0.0376, Accuracy: 9883/10000 (98.83%)\n",
            "\n",
            "EPOCH:  8\n"
          ],
          "name": "stdout"
        },
        {
          "output_type": "stream",
          "text": [
            "Loss=0.24154825508594513 Batch_id=45 Accuracy=98.81:   5%|▍         | 45/938 [00:00<00:38, 22.90it/s]"
          ],
          "name": "stderr"
        }
      ]
    },
    {
      "cell_type": "code",
      "metadata": {
        "id": "mZxlJ2NWGRwp",
        "colab_type": "code",
        "colab": {}
      },
      "source": [
        "fig, axs = plt.subplots(2,2,figsize=(15,10))\n",
        "axs[0, 0].plot(train_loss)\n",
        "axs[0, 0].set_title(\"Training Loss\")\n",
        "axs[1, 0].plot(train_acc)\n",
        "axs[1, 0].set_title(\"Training Accuracy\")\n",
        "axs[0, 1].plot(test_loss)\n",
        "axs[0, 1].set_title(\"Test Loss\")\n",
        "axs[1, 1].plot(test_acc)\n",
        "axs[1, 1].set_title(\"Test Accuracy\")\n",
        "\n",
        "print()\n",
        "print(f'Max Training Loss {max(train_loss)} with Max Training Accuracy {max(train_acc)}')\n",
        "print()\n",
        "print(f'Max Testing Loss {max(test_loss)} with Max Testing Accuracy {max(test_acc)}')"
      ],
      "execution_count": 0,
      "outputs": []
    },
    {
      "cell_type": "code",
      "metadata": {
        "id": "osin1dJhGyNx",
        "colab_type": "code",
        "colab": {}
      },
      "source": [
        ""
      ],
      "execution_count": 0,
      "outputs": []
    }
  ]
}